{
 "cells": [
  {
   "cell_type": "code",
   "execution_count": null,
   "id": "55ad9915",
   "metadata": {
    "vscode": {
     "languageId": "plaintext"
    }
   },
   "outputs": [],
   "source": [
    "import pandas as pd\n",
    "\n",
    "# Cargar datos simulados\n",
    "df = pd.read_csv('data/raw/ventas_simuladas.csv', parse_dates=['fecha'])\n",
    "\n",
    "# Vista previa\n",
    "print(df.head())\n",
    "\n",
    "# Estadísticas básicas\n",
    "print(df.describe())\n",
    "\n",
    "# Conteo por tienda y categoría\n",
    "print(df.groupby(['tienda', 'categoria']).unidades_vendidas.sum())\n",
    "\n",
    "# Visualización simple\n",
    "import matplotlib.pyplot as plt\n",
    "\n",
    "df.groupby('fecha').unidades_vendidas.sum().plot()\n",
    "plt.title('Unidades vendidas totales por fecha')\n",
    "plt.show()\n"
   ]
  }
 ],
 "metadata": {
  "language_info": {
   "name": "python"
  }
 },
 "nbformat": 4,
 "nbformat_minor": 5
}
